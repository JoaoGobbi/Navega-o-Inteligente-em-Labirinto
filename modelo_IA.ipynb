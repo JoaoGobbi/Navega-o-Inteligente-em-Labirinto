{
 "cells": [
  {
   "cell_type": "code",
   "execution_count": 1,
   "id": "18d1c4f0-1994-4d8a-b7e7-c56d6e916a41",
   "metadata": {
    "tags": []
   },
   "outputs": [],
   "source": [
    "import random\n",
    "import heapq\n",
    "import matplotlib.pyplot as plt\n",
    "import numpy as np"
   ]
  },
  {
   "cell_type": "code",
   "execution_count": 2,
   "id": "b9cfa1e6-a218-4a57-ac2e-8bf7dab17c43",
   "metadata": {
    "tags": []
   },
   "outputs": [],
   "source": [
    "# Constantes\n",
    "N = 10\n",
    "ENERGY_START = 50\n",
    "ENERGY_5_COUNT = 5\n",
    "ENERGY_10_COUNT = 3\n",
    "OBSTACLE_MIN = 15\n",
    "OBSTACLE_MAX = 35\n",
    "\n",
    "# Representações\n",
    "CLEAR = 0\n",
    "OBSTACLE = -1\n",
    "ENERGY_5 = 5\n",
    "ENERGY_10 = 10\n",
    "START = (0, 0)\n",
    "GOAL = (9, 9)"
   ]
  },
  {
   "cell_type": "code",
   "execution_count": 5,
   "id": "0019da84-e53e-4fe9-af56-242efaf8d4a0",
   "metadata": {
    "tags": []
   },
   "outputs": [],
   "source": [
    "# Geração do labirinto\n",
    "def generate_maze():\n",
    "    maze = [[CLEAR for _ in range(N)] for _ in range(N)]\n",
    "    \n",
    "    # Obstáculos\n",
    "    obstacles = set()\n",
    "    while len(obstacles) < random.randint(OBSTACLE_MIN, OBSTACLE_MAX):\n",
    "        x, y = random.randint(0, N-1), random.randint(0, N-1)\n",
    "        if (x, y) not in [START, GOAL]:\n",
    "            maze[x][y] = OBSTACLE\n",
    "            obstacles.add((x, y))\n",
    "\n",
    "    # Energia +5\n",
    "    energy5 = set()\n",
    "    while len(energy5) < ENERGY_5_COUNT:\n",
    "        x, y = random.randint(0, N-1), random.randint(0, N-1)\n",
    "        if maze[x][y] == CLEAR and (x, y) not in [START, GOAL]:\n",
    "            maze[x][y] = ENERGY_5\n",
    "            energy5.add((x, y))\n",
    "    # Energia +10\n",
    "    energy10 = set()\n",
    "    while len(energy10) < ENERGY_10_COUNT:\n",
    "        x, y = random.randint(0, N-1), random.randint(0, N-1)\n",
    "        if maze[x][y] == CLEAR and (x, y) not in [START, GOAL] and (x, y) not in energy5:\n",
    "            maze[x][y] = ENERGY_10\n",
    "            energy10.add((x, y))\n",
    "\n",
    "    return maze"
   ]
  },
  {
   "cell_type": "code",
   "execution_count": 6,
   "id": "c7cce9f2-300b-4282-8eff-6dde052b73b4",
   "metadata": {
    "tags": []
   },
   "outputs": [],
   "source": [
    "# Heurística de Manhattan\n",
    "def heuristic(a, b):\n",
    "    return abs(a[0] - b[0]) + abs(a[1] - b[1])\n"
   ]
  },
  {
   "cell_type": "code",
   "execution_count": 7,
   "id": "a5e3654f-7d3e-47d3-b8e2-e9f12b34f627",
   "metadata": {
    "tags": []
   },
   "outputs": [],
   "source": [
    "# Algoritmo A* com energia\n",
    "def astar(maze):\n",
    "    start = START\n",
    "    goal = GOAL\n",
    "    frontier = [(0, 0, ENERGY_START, start, [])]\n",
    "    visited = set()\n",
    "\n",
    "    while frontier:\n",
    "        f, g, energy, current, path = heapq.heappop(frontier)\n",
    "        if current in visited:\n",
    "            continue\n",
    "        visited.add(current)\n",
    "        path = path + [current]\n",
    "\n",
    "        if current == goal:\n",
    "            return path, energy\n",
    "\n",
    "        if energy <= 0:\n",
    "            continue\n",
    "\n",
    "        for dx, dy in [(-1,0), (1,0), (0,-1), (0,1)]:\n",
    "            x2, y2 = current[0] + dx, current[1] + dy\n",
    "            if 0 <= x2 < N and 0 <= y2 < N and maze[x2][y2] != OBSTACLE:\n",
    "                pos = (x2, y2)\n",
    "                if pos in visited:\n",
    "                    continue\n",
    "                next_energy = energy - 1\n",
    "                if maze[x2][y2] == ENERGY_5:\n",
    "                    next_energy += 5\n",
    "                elif maze[x2][y2] == ENERGY_10:\n",
    "                    next_energy += 10\n",
    "                h = heuristic(pos, goal)\n",
    "                heapq.heappush(frontier, (g + 1 + h, g + 1, next_energy, pos, path))\n",
    "\n",
    "    return None, 0\n"
   ]
  },
  {
   "cell_type": "code",
   "execution_count": 8,
   "id": "209002de-31eb-48c9-b4a0-f8019a86edc2",
   "metadata": {
    "tags": []
   },
   "outputs": [],
   "source": [
    "# Visualizar o labirinto\n",
    "def plot_maze(maze, path):\n",
    "    img = np.zeros((N, N, 3), dtype=np.uint8)\n",
    "\n",
    "    for i in range(N):\n",
    "        for j in range(N):\n",
    "            if maze[i][j] == OBSTACLE:\n",
    "                img[i, j] = [0, 0, 0]\n",
    "            elif maze[i][j] == ENERGY_5:\n",
    "                img[i, j] = [0, 255, 0]\n",
    "            elif maze[i][j] == ENERGY_10:\n",
    "                img[i, j] = [0, 128, 0]\n",
    "            else:\n",
    "                img[i, j] = [255, 255, 255]\n",
    "\n",
    "    for (x, y) in path:\n",
    "        img[x, y] = [0, 0, 255]\n",
    "\n",
    "    img[START[0], START[1]] = [255, 255, 0]\n",
    "    img[GOAL[0], GOAL[1]] = [255, 0, 0]\n",
    "\n",
    "    plt.figure(figsize=(6, 6))\n",
    "    plt.imshow(img)\n",
    "    plt.title(\"Caminho do Robô no Labirinto\")\n",
    "    plt.axis('off')\n",
    "    plt.show()\n"
   ]
  },
  {
   "cell_type": "code",
   "execution_count": 11,
   "id": "38441c14-de3d-4fbd-aa6a-29c680cc525d",
   "metadata": {
    "tags": []
   },
   "outputs": [
    {
     "data": {
      "image/png": "[encoded data removed]",
      "text/plain": [
       "<Figure size 600x600 with 1 Axes>"
      ]
     },
     "metadata": {},
     "output_type": "display_data"
    },
    {
     "name": "stdout",
     "output_type": "stream",
     "text": [
      "Caminho percorrido: [(0, 0), (0, 1), (1, 1), (2, 1), (2, 2), (2, 3), (2, 4), (2, 5), (2, 6), (3, 6), (3, 7), (4, 7), (4, 8), (5, 8), (6, 8), (7, 8), (8, 8), (8, 9), (9, 9)]\n",
      "Passos: 19, Energia restante: 32\n"
     ]
    }
   ],
   "source": [
    "# Executar\n",
    "maze = generate_maze()\n",
    "path, energy_left = astar(maze)\n",
    "plot_maze(maze, path if path else [])\n",
    "print(f\"Caminho percorrido: {path}\")\n",
    "print(f\"Passos: {len(path) if path else 0}, Energia restante: {energy_left}\")"
   ]
  }
 ],
 "metadata": {
  "kernelspec": {
   "display_name": "Python 3 (ipykernel)",
   "language": "python",
   "name": "python3"
  },
  "language_info": {
   "codemirror_mode": {
    "name": "ipython",
    "version": 3
   },
   "file_extension": ".py",
   "mimetype": "text/x-python",
   "name": "python",
   "nbconvert_exporter": "python",
   "pygments_lexer": "ipython3",
   "version": "3.11.5"
  }
 },
 "nbformat": 4,
 "nbformat_minor": 5
}
